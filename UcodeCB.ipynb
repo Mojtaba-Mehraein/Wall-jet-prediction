import numpy as np
import pandas as pd
from sklearn.model_selection import train_test_split
from sklearn.metrics import mean_squared_error, r2_score
from catboost import CatBoostRegressor

# -------------------------
# Load Data
# -------------------------
data = pd.read_csv("Udata.csv")
X = data.iloc[:, 0:5].values   # Features: X, Y, TWR, ER, Re
y = data.iloc[:, 5].values     # Label: U

# Split data (70% train, 30% test)
X_train, X_test, y_train, y_test = train_test_split(
    X, y, test_size=0.3, random_state=42
)

# -------------------------
# Train CatBoost Model
# -------------------------
model = CatBoostRegressor(
    depth=3,               # Tree depth
    learning_rate=0.1,     # Learning rate
    l2_leaf_reg=2,         # L2 regularization
    iterations=100,        # Number of boosting iterations
    silent=True,           # Suppress output
    random_seed=42
)

model.fit(X_train, y_train)

# -------------------------
# Predictions
# -------------------------
y_train_pred = model.predict(X_train)
y_test_pred = model.predict(X_test)

# -------------------------
# Evaluation
# -------------------------
mse_train = mean_squared_error(y_train, y_train_pred)
r2_train = r2_score(y_train, y_train_pred)

mse_test = mean_squared_error(y_test, y_test_pred)
r2_test = r2_score(y_test, y_test_pred)

print("\nModel Performance (CatBoost without optimization):")
print(f"Train -> MSE: {mse_train:.4f}, R²: {r2_train:.4f}")
print(f"Test  -> MSE: {mse_test:.4f}, R²: {r2_test:.4f}")

# -------------------------
# Save results to Excel
# -------------------------
train_results = pd.DataFrame({
    "Measured_Train": y_train,
    "Predicted_Train": y_train_pred
})

test_results = pd.DataFrame({
    "Measured_Test": y_test,
    "Predicted_Test": y_test_pred
})

with pd.ExcelWriter("CatBoost_results.xlsx") as writer:
    train_results.to_excel(writer, sheet_name="Train", index=False)
    test_results.to_excel(writer, sheet_name="Test", index=False)
