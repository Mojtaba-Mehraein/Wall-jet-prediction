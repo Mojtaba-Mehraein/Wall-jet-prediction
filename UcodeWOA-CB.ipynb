import numpy as np
import pandas as pd
from catboost import CatBoostRegressor
from sklearn.model_selection import train_test_split
from sklearn.metrics import mean_squared_error
import random

# -----------------------------
# Load dataset
# -----------------------------
data = pd.read_csv("Udata.csv")

X = data.iloc[:, 0:5].values   # First 5 columns (features)
y = data.iloc[:, 5].values     # 6th column (label)

X_train, X_test, y_train, y_test = train_test_split(
    X, y, test_size=0.3, random_state=42
)

# Store training and testing predictions for final output
train_predictions = None
test_predictions = None

# -----------------------------
# Define objective function
# -----------------------------
def fitness_function(params):
    depth, learning_rate, l2_leaf_reg = params
    model = CatBoostRegressor(
        depth=int(depth),
        learning_rate=learning_rate,
        l2_leaf_reg=l2_leaf_reg,
        iterations=300,  # Fixed iterations
        loss_function='RMSE',
        verbose=0
    )
    model.fit(X_train, y_train)
    preds = model.predict(X_test)
    rmse = np.sqrt(mean_squared_error(y_test, preds))
    return rmse

# -----------------------------
# Whale Optimization Algorithm (WOA)
# -----------------------------
def whale_optimization(fitness_func, n_whales=100, max_iter=20):
    # Search space for CatBoost hyperparameters
    depth_bounds = (4, 12)
    lr_bounds = (0.01, 0.3)
    l2_bounds = (1, 10)  # L2 leaf regularization bounds

    # Initialize whales randomly
    whales = []
    for _ in range(n_whales):
        depth = random.randint(*depth_bounds)
        lr = random.uniform(*lr_bounds)
        l2 = random.uniform(*l2_bounds)
        whales.append([depth, lr, l2])

    # Evaluate initial fitness
    fitness = [fitness_func(w) for w in whales]
    best_whale = whales[np.argmin(fitness)]
    best_score = min(fitness)

    for t in range(max_iter):
        a = 2 - t * (2 / max_iter)  # linearly decreases from 2 to 0

        for i in range(n_whales):
            r = random.random()
            A = 2 * a * r - a
            C = 2 * r
            p = random.random()

            if p < 0.5:
                if abs(A) < 1:
                    # Encircling prey
                    D = abs(C * np.array(best_whale) - np.array(whales[i]))
                    whales[i] = np.array(best_whale) - A * D
                else:
                    # Search for prey (random whale)
                    rand_whale = whales[random.randint(0, n_whales - 1)]
                    D = abs(C * np.array(rand_whale) - np.array(whales[i]))
                    whales[i] = np.array(rand_whale) - A * D
            else:
                # Spiral updating position
                D = abs(np.array(best_whale) - np.array(whales[i]))
                b = 1
                l = (random.random() * 2 - 1)
                whales[i] = np.array(D * np.exp(b * l) * np.cos(2 * np.pi * l) + np.array(best_whale))

            # Ensure bounds
            whales[i][0] = np.clip(whales[i][0], *depth_bounds)
            whales[i][1] = np.clip(whales[i][1], *lr_bounds)
            whales[i][2] = np.clip(whales[i][2], *l2_bounds)

        # Evaluate fitness
        fitness = [fitness_func(w) for w in whales]
        current_best = whales[np.argmin(fitness)]
        current_score = min(fitness)

        if current_score < best_score:
            best_whale = current_best
            best_score = current_score

        print(f"Iteration {t+1}/{max_iter}, Best RMSE = {best_score:.4f}")

    return best_whale, best_score

# -----------------------------
# Run WOA + CatBoost
# -----------------------------
best_params, best_rmse = whale_optimization(fitness_function, n_whales=10, max_iter=20)
print("Best Parameters (depth, learning_rate, l2_leaf_reg):", best_params)
print("Best RMSE:", best_rmse)

# -----------------------------
# Train final CatBoost with best params and get predictions
# -----------------------------
final_model = CatBoostRegressor(
    depth=int(best_params[0]),
    learning_rate=best_params[1],
    l2_leaf_reg=best_params[2],
    iterations=500,  # You can increase iterations for final model
    loss_function='RMSE',
    verbose=0
)

final_model.fit(X_train, y_train)

# Get predictions for both training and testing data
train_preds = final_model.predict(X_train)
test_preds = final_model.predict(X_test)

# -----------------------------
# Create Excel file with two sheets
# -----------------------------
# Create DataFrames for training and testing data
train_df = pd.DataFrame({
    'Measured_Training': y_train,
    'Predicted_Training': train_preds
})

test_df = pd.DataFrame({
    'Measured_Testing': y_test,
    'Predicted_Testing': test_preds
})

# Create Excel writer and save both sheets
with pd.ExcelWriter('WO-CB_results.xlsx') as writer:
    train_df.to_excel(writer, sheet_name='Training_Data', index=False)
    test_df.to_excel(writer, sheet_name='Testing_Data', index=False)

print("Excel file 'WO-CB_results.xlsx' created successfully!")
print(f"Training data shape: {train_df.shape}")
print(f"Testing data shape: {test_df.shape}")

# Calculate final RMSE for reporting
final_rmse = np.sqrt(mean_squared_error(y_test, test_preds))
print("Final Test RMSE:", final_rmse)
